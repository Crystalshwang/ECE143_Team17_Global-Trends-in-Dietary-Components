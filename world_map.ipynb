{
 "cells": [
  {
   "cell_type": "markdown",
   "metadata": {},
   "source": [
    "# Style Initialization"
   ]
  },
  {
   "cell_type": "code",
   "execution_count": 1,
   "metadata": {},
   "outputs": [],
   "source": [
    "import pyecharts\n",
    "import pandas as pd\n",
    "import numpy as np\n",
    "from pyecharts import Style\n",
    "from pyecharts import Map, Geo\n",
    "from pyecharts import Timeline\n",
    "from pyecharts import Pie\n",
    "style = Style(\n",
    "    title_color=\"#fff\",\n",
    "    #title_pos=\"center\",\n",
    "    width=1400,\n",
    "    height=800,\n",
    "    background_color='#bbb'\n",
    ")"
   ]
  },
  {
   "cell_type": "markdown",
   "metadata": {},
   "source": [
    "# Data Loader"
   ]
  },
  {
   "cell_type": "code",
   "execution_count": 2,
   "metadata": {},
   "outputs": [],
   "source": [
    "df=pd.read_csv('FoodSupply_Crops_E_All_Data.csv',encoding = \"ISO-8859-1\")\n",
    "df=np.matrix(df.values)\n",
    "df2=pd.read_csv('FoodSupply_LivestockFish_E_All_Data.csv',encoding = \"ISO-8859-1\")\n",
    "df2=np.matrix(df2.values)"
   ]
  },
  {
   "cell_type": "markdown",
   "metadata": {},
   "source": [
    "# Data Processing"
   ]
  },
  {
   "cell_type": "code",
   "execution_count": 13,
   "metadata": {},
   "outputs": [],
   "source": [
    "countries=np.ndarray.flatten(np.array(df[:,1]).astype(np.str)).tolist()\n",
    "countries=set(countries)\n",
    "veg_con=[]\n",
    "healthy_veg_con=[]\n",
    "countries=sorted(countries)\n",
    "for j in range(53):\n",
    "    one_year_con=[]\n",
    "    health_oyc=[]\n",
    "    for i in countries:\n",
    "        ind1=np.intersect1d((np.where(df[:,1]==i))[0],(np.where(df[:,3]=='Vegetables'))[0])\n",
    "        temp=df[ind1]\n",
    "        ind2=(np.where(temp[:,4]==645))[0]\n",
    "        one_year_con.append(np.ndarray.flatten(temp[ind2]).tolist()[0][7+j*2])\n",
    "        health_oyc.append((np.ndarray.flatten(temp[ind2]).tolist()[0][7+j*2])>85)\n",
    "    one_year_con.append(one_year_con[countries.index('Denmark')])\n",
    "    health_oyc.append(health_oyc[countries.index('Denmark')])\n",
    "    veg_con.append(one_year_con)\n",
    "    healthy_veg_con.append(health_oyc)\n",
    "countries[countries.index('United States of America')]='United States'\n",
    "countries[countries.index('Russian Federation')]='Russia'\n",
    "countries.append('Greenland')"
   ]
  },
  {
   "cell_type": "code",
   "execution_count": 14,
   "metadata": {},
   "outputs": [],
   "source": [
    "for i in range(31):\n",
    "    veg_con[i][countries.index('Russia')]=veg_con[i][countries.index('USSR')]"
   ]
  },
  {
   "cell_type": "markdown",
   "metadata": {},
   "source": [
    "# hyper-parameters"
   ]
  },
  {
   "cell_type": "code",
   "execution_count": 9,
   "metadata": {},
   "outputs": [],
   "source": [
    "country='China'"
   ]
  },
  {
   "cell_type": "code",
   "execution_count": 10,
   "metadata": {},
   "outputs": [
    {
     "data": {
      "text/html": [
       "<script>\n",
       "    require.config({\n",
       "        paths: {\n",
       "            'echarts': '/nbextensions/echarts/echarts.min'\n",
       "        }\n",
       "    });\n",
       "</script>\n",
       "    <div id=\"da777c8117e6430e92fd22474c2fb193\" style=\"width:800px;height:400px;\"></div>\n",
       "\n",
       "\n",
       "<script>\n",
       "    require(['echarts'], function(echarts) {\n",
       "        \n",
       "var myChart_da777c8117e6430e92fd22474c2fb193 = echarts.init(document.getElementById('da777c8117e6430e92fd22474c2fb193'), 'light', {renderer: 'canvas'});\n",
       "\n",
       "var option_da777c8117e6430e92fd22474c2fb193 = {\n",
       "    \"title\": [\n",
       "        {\n",
       "            \"text\": \"Diet\",\n",
       "            \"left\": \"auto\",\n",
       "            \"top\": \"auto\",\n",
       "            \"textStyle\": {\n",
       "                \"fontSize\": 18\n",
       "            },\n",
       "            \"subtextStyle\": {\n",
       "                \"fontSize\": 12\n",
       "            }\n",
       "        }\n",
       "    ],\n",
       "    \"toolbox\": {\n",
       "        \"show\": true,\n",
       "        \"orient\": \"vertical\",\n",
       "        \"left\": \"95%\",\n",
       "        \"top\": \"center\",\n",
       "        \"feature\": {\n",
       "            \"saveAsImage\": {\n",
       "                \"show\": true,\n",
       "                \"title\": \"save as image\"\n",
       "            },\n",
       "            \"restore\": {\n",
       "                \"show\": true,\n",
       "                \"title\": \"restore\"\n",
       "            },\n",
       "            \"dataView\": {\n",
       "                \"show\": true,\n",
       "                \"title\": \"data view\"\n",
       "            }\n",
       "        }\n",
       "    },\n",
       "    \"series_id\": 881556,\n",
       "    \"tooltip\": {\n",
       "        \"trigger\": \"item\",\n",
       "        \"triggerOn\": \"mousemove|click\",\n",
       "        \"axisPointer\": {\n",
       "            \"type\": \"line\"\n",
       "        },\n",
       "        \"textStyle\": {\n",
       "            \"fontSize\": 14\n",
       "        },\n",
       "        \"backgroundColor\": \"rgba(50,50,50,0.7)\",\n",
       "        \"borderColor\": \"#333\",\n",
       "        \"borderWidth\": 0\n",
       "    },\n",
       "    \"series\": [\n",
       "        {\n",
       "            \"type\": \"pie\",\n",
       "            \"data\": [\n",
       "                {\n",
       "                    \"name\": \"Vegetables\",\n",
       "                    \"value\": 342.73\n",
       "                },\n",
       "                {\n",
       "                    \"name\": \"Fruits - Excluding Wine\",\n",
       "                    \"value\": 91.96\n",
       "                },\n",
       "                {\n",
       "                    \"name\": \"Cereals - Excluding Beer\",\n",
       "                    \"value\": 149.89\n",
       "                },\n",
       "                {\n",
       "                    \"name\": \"Meat\",\n",
       "                    \"value\": 60.42\n",
       "                },\n",
       "                {\n",
       "                    \"name\": \"Milk, Whole\",\n",
       "                    \"value\": 29.87\n",
       "                }\n",
       "            ],\n",
       "            \"radius\": [\n",
       "                \"0%\",\n",
       "                \"75%\"\n",
       "            ],\n",
       "            \"center\": [\n",
       "                \"50%\",\n",
       "                \"50%\"\n",
       "            ],\n",
       "            \"roseType\": \"radius\",\n",
       "            \"label\": {\n",
       "                \"normal\": {\n",
       "                    \"show\": true,\n",
       "                    \"position\": \"outside\",\n",
       "                    \"textStyle\": {\n",
       "                        \"fontSize\": 12\n",
       "                    },\n",
       "                    \"formatter\": \"{b}: {d}%\"\n",
       "                },\n",
       "                \"emphasis\": {\n",
       "                    \"show\": true,\n",
       "                    \"textStyle\": {\n",
       "                        \"fontSize\": 12\n",
       "                    },\n",
       "                    \"formatter\": \"{b}: {d}%\"\n",
       "                }\n",
       "            },\n",
       "            \"seriesId\": 881556\n",
       "        }\n",
       "    ],\n",
       "    \"legend\": [\n",
       "        {\n",
       "            \"data\": [\n",
       "                \"Vegetables\",\n",
       "                \"Fruits - Excluding Wine\",\n",
       "                \"Cereals - Excluding Beer\",\n",
       "                \"Meat\",\n",
       "                \"Milk, Whole\"\n",
       "            ],\n",
       "            \"selectedMode\": \"multiple\",\n",
       "            \"show\": true,\n",
       "            \"left\": \"center\",\n",
       "            \"top\": \"top\",\n",
       "            \"orient\": \"horizontal\",\n",
       "            \"textStyle\": {\n",
       "                \"fontSize\": 12\n",
       "            }\n",
       "        }\n",
       "    ],\n",
       "    \"animation\": true,\n",
       "    \"color\": [\n",
       "        \"#c23531\",\n",
       "        \"#2f4554\",\n",
       "        \"#61a0a8\",\n",
       "        \"#d48265\",\n",
       "        \"#749f83\",\n",
       "        \"#ca8622\",\n",
       "        \"#bda29a\",\n",
       "        \"#6e7074\",\n",
       "        \"#546570\",\n",
       "        \"#c4ccd3\",\n",
       "        \"#f05b72\",\n",
       "        \"#ef5b9c\",\n",
       "        \"#f47920\",\n",
       "        \"#905a3d\",\n",
       "        \"#fab27b\",\n",
       "        \"#2a5caa\",\n",
       "        \"#444693\",\n",
       "        \"#726930\",\n",
       "        \"#b2d235\",\n",
       "        \"#6d8346\",\n",
       "        \"#ac6767\",\n",
       "        \"#1d953f\",\n",
       "        \"#6950a1\",\n",
       "        \"#918597\",\n",
       "        \"#f6f5ec\"\n",
       "    ]\n",
       "};\n",
       "myChart_da777c8117e6430e92fd22474c2fb193.setOption(option_da777c8117e6430e92fd22474c2fb193);\n",
       "\n",
       "    });\n",
       "</script>\n"
      ],
      "text/plain": [
       "<pyecharts.charts.pie.Pie at 0x25554e79a20>"
      ]
     },
     "execution_count": 10,
     "metadata": {},
     "output_type": "execute_result"
    }
   ],
   "source": [
    "attr1=np.ndarray.flatten(np.array(df[:,3]).astype(np.str)).tolist()\n",
    "attr1=set(attr1)\n",
    "attr2=np.ndarray.flatten(np.array(df2[:,3]).astype(np.str)).tolist()     \n",
    "attr2=set(attr2)\n",
    "composition1={'Vegetables':0,'Fruits - Excluding Wine':0, 'Cereals - Excluding Beer':0}\n",
    "composition2={'Meat':0, 'Milk, Whole':0}\n",
    "for i in composition1.keys():\n",
    "    ind1=np.intersect1d((np.where(df[:,1]==country))[0],(np.where(df[:,3]==i))[0])\n",
    "    temp=df[ind1]\n",
    "    ind2=(np.where(temp[:,4]==645))[0]\n",
    "    #print(np.ndarray.flatten(temp[ind2]).tolist()[0][107])\n",
    "    composition1[i]=(np.ndarray.flatten(temp[ind2]).tolist()[0][7+51*2])\n",
    "for i in composition2.keys():\n",
    "    ind1=np.intersect1d((np.where(df2[:,1]==country))[0],(np.where(df2[:,3]==i))[0])\n",
    "    temp=df2[ind1]\n",
    "    ind2=(np.where(temp[:,4]==645))[0]\n",
    "    composition2[i]=(np.ndarray.flatten(temp[ind2]).tolist()[0][7+51*2])\n",
    "attr=[]\n",
    "v1=[]\n",
    "for i,j in composition1.items():\n",
    "    attr.append(i)\n",
    "    v1.append(j)\n",
    "for i,j in composition2.items():\n",
    "    attr.append(i)\n",
    "    v1.append(j)\n",
    "pie = Pie(\"Diet\")\n",
    "pie.add(\"\", attr, v1, is_label_show=True, center=[50,50], rosetype = 'radius')\n",
    "pie"
   ]
  },
  {
   "cell_type": "markdown",
   "metadata": {},
   "source": [
    "# World Map for Vegetables Supply"
   ]
  },
  {
   "cell_type": "code",
   "execution_count": 18,
   "metadata": {},
   "outputs": [],
   "source": [
    "maps=[]\n",
    "years=[1961+i for i in range(53)]\n",
    "timeline = Timeline(is_auto_play=False, timeline_bottom=0, timeline_play_interval=50,width=1100)\n",
    "for i in range(53):\n",
    "    MAP = Map(\"world map\", **style.init_style)\n",
    "    MAP.add(\"world map\", countries, veg_con[i], maptype=\"world\",  is_visualmap=True, visual_range=[0,200],visual_text_color='#fff', visual_top=50, is_map_symbol_show=False)\n",
    "    timeline.add(MAP,str(years[i]))"
   ]
  },
  {
   "cell_type": "markdown",
   "metadata": {},
   "source": [
    "# Map"
   ]
  },
  {
   "cell_type": "code",
   "execution_count": 19,
   "metadata": {
    "slideshow": {
     "slide_type": "slide"
    }
   },
   "outputs": [],
   "source": [
    "from pyecharts_snapshot.main import make_a_snapshot\n",
    "timeline.render(path='distribution.html')"
   ]
  },
  {
   "cell_type": "markdown",
   "metadata": {},
   "source": [
    "# World Map for Healthy Vegetable Consumption"
   ]
  },
  {
   "cell_type": "code",
   "execution_count": 85,
   "metadata": {},
   "outputs": [],
   "source": [
    "maps=[]\n",
    "years=[1961+i for i in range(53)]\n",
    "timeline = Timeline(is_auto_play=True, timeline_bottom=0, timeline_play_interval=50,width=1100)\n",
    "for i in range(53):\n",
    "    MAP = Map(\"world map\", **style.init_style)\n",
    "    MAP.add(\"world map\", countries, healthy_veg_con[i], maptype=\"world\",  is_visualmap=True, visual_range=[0,1],visual_text_color='#fff', visual_top=50, is_map_symbol_show=False)\n",
    "    timeline.add(MAP,str(years[i]))"
   ]
  },
  {
   "cell_type": "markdown",
   "metadata": {},
   "source": [
    "# Map"
   ]
  },
  {
   "cell_type": "code",
   "execution_count": 87,
   "metadata": {
    "slideshow": {
     "slide_type": "slide"
    }
   },
   "outputs": [
    {
     "name": "stdout",
     "output_type": "stream",
     "text": [
      "phantomjs version: 2.1.1\n",
      "\n",
      "Generating file ...\n",
      "File saved in C:\\Users\\DELL\\Desktop\\ece143final\\meet.gif\n"
     ]
    }
   ],
   "source": [
    "timeline\n",
    "timeline.render(path='meet.gif')"
   ]
  },
  {
   "cell_type": "code",
   "execution_count": null,
   "metadata": {},
   "outputs": [],
   "source": []
  },
  {
   "cell_type": "code",
   "execution_count": null,
   "metadata": {},
   "outputs": [],
   "source": []
  },
  {
   "cell_type": "code",
   "execution_count": null,
   "metadata": {},
   "outputs": [],
   "source": []
  }
 ],
 "metadata": {
  "kernelspec": {
   "display_name": "Python 3",
   "language": "python",
   "name": "python3"
  },
  "language_info": {
   "codemirror_mode": {
    "name": "ipython",
    "version": 3
   },
   "file_extension": ".py",
   "mimetype": "text/x-python",
   "name": "python",
   "nbconvert_exporter": "python",
   "pygments_lexer": "ipython3",
   "version": "3.7.1rc1"
  }
 },
 "nbformat": 4,
 "nbformat_minor": 2
}
